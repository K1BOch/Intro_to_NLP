{
 "cells": [
  {
   "cell_type": "code",
   "execution_count": 1,
   "metadata": {},
   "outputs": [],
   "source": [
    "import pandas as pd\n",
    "import numpy as np\n",
    "from tqdm import tqdm_notebook\n"
   ]
  },
  {
   "cell_type": "code",
   "execution_count": null,
   "metadata": {},
   "outputs": [],
   "source": [
    "ds = pd.read_csv('lenta-ru-news.csv')\n",
    "ds.head()"
   ]
  },
  {
   "cell_type": "code",
   "execution_count": null,
   "metadata": {},
   "outputs": [
    {
     "data": {
      "text/plain": [
       "(800975, 6)"
      ]
     },
     "execution_count": 4,
     "metadata": {},
     "output_type": "execute_result"
    }
   ],
   "source": [
    "ds.shape"
   ]
  },
  {
   "cell_type": "code",
   "execution_count": null,
   "metadata": {},
   "outputs": [
    {
     "data": {
      "text/plain": [
       "url          0\n",
       "title        0\n",
       "text         5\n",
       "topic    62002\n",
       "tags     27219\n",
       "date         0\n",
       "dtype: int64"
      ]
     },
     "execution_count": 5,
     "metadata": {},
     "output_type": "execute_result"
    }
   ],
   "source": [
    "ds.isnull().sum()"
   ]
  },
  {
   "cell_type": "code",
   "execution_count": null,
   "metadata": {},
   "outputs": [
    {
     "data": {
      "text/plain": [
       "(712654, 6)"
      ]
     },
     "execution_count": 6,
     "metadata": {},
     "output_type": "execute_result"
    }
   ],
   "source": [
    "ds.dropna(inplace= True)\n",
    "ds.shape"
   ]
  },
  {
   "cell_type": "code",
   "execution_count": null,
   "metadata": {},
   "outputs": [],
   "source": [
    "ds_sample = ds.sample(n=1000)\n",
    "ds_sample.to_csv('ds_sample.csv',index = False)"
   ]
  },
  {
   "cell_type": "code",
   "execution_count": null,
   "metadata": {},
   "outputs": [],
   "source": [
    "new_data = pd.read_csv('ds_sample.csv')"
   ]
  },
  {
   "cell_type": "code",
   "execution_count": null,
   "metadata": {},
   "outputs": [
    {
     "data": {
      "text/plain": [
       "(1000, 6)"
      ]
     },
     "execution_count": 9,
     "metadata": {},
     "output_type": "execute_result"
    }
   ],
   "source": [
    "new_data.dropna(inplace = True)\n",
    "new_data.shape"
   ]
  },
  {
   "cell_type": "markdown",
   "metadata": {},
   "source": [
    "# Data exploration"
   ]
  },
  {
   "cell_type": "code",
   "execution_count": null,
   "metadata": {},
   "outputs": [],
   "source": [
    "from collections import Counter"
   ]
  },
  {
   "cell_type": "code",
   "execution_count": null,
   "metadata": {},
   "outputs": [
    {
     "data": {
      "text/plain": [
       "tags\n",
       "Все                     626\n",
       "Политика                 49\n",
       "Общество                 40\n",
       "Украина                  26\n",
       "Госэкономика             25\n",
       "Кино                     21\n",
       "Происшествия             20\n",
       "Следствие и суд          15\n",
       "Футбол                   13\n",
       "Квартира                 13\n",
       "Интернет                 12\n",
       "Бизнес                   12\n",
       "Люди                      8\n",
       "Музыка                    7\n",
       "Преступность              7\n",
       "Космос                    6\n",
       "Конфликты                 6\n",
       "ТВ и радио                6\n",
       "Coцсети                   6\n",
       "Гаджеты                   5\n",
       "Пресса                    4\n",
       "Звери                     4\n",
       "Наука                     4\n",
       "Бокс и ММА                3\n",
       "Регионы                   3\n",
       "Явления                   3\n",
       "Стиль                     3\n",
       "Театр                     3\n",
       "Игры                      3\n",
       "Летние виды               3\n",
       "Рынки                     2\n",
       "Закавказье                2\n",
       "Зимние виды               2\n",
       "Россия                    2\n",
       "Достижения                2\n",
       "Москва                    2\n",
       "Средняя Азия              2\n",
       "Город                     2\n",
       "Искусство                 2\n",
       "Деньги                    2\n",
       "Молдавия                  2\n",
       "События                   2\n",
       "Мировой бизнес            2\n",
       "Мир                       2\n",
       "Прибалтика                2\n",
       "Деловой климат            2\n",
       "Часы                      1\n",
       "Оружие                    1\n",
       "Движение                  1\n",
       "Дача                      1\n",
       "Полиция и спецслужбы      1\n",
       "Техника                   1\n",
       "Вирусные ролики           1\n",
       "Вещи                      1\n",
       "Офис                      1\n",
       "Инструменты               1\n",
       "Киберпреступность         1\n",
       "Книги                     1\n",
       "Name: count, dtype: int64"
      ]
     },
     "execution_count": 11,
     "metadata": {},
     "output_type": "execute_result"
    }
   ],
   "source": [
    "ds_sample['tags'].value_counts()"
   ]
  },
  {
   "cell_type": "code",
   "execution_count": null,
   "metadata": {
    "scrolled": true
   },
   "outputs": [
    {
     "data": {
      "text/plain": [
       "Counter({'Все': 626,\n",
       "         'Политика': 49,\n",
       "         'Общество': 40,\n",
       "         'Украина': 26,\n",
       "         'Госэкономика': 25,\n",
       "         'Кино': 21,\n",
       "         'Происшествия': 20,\n",
       "         'Следствие и суд': 15,\n",
       "         'Футбол': 13,\n",
       "         'Квартира': 13,\n",
       "         'Интернет': 12,\n",
       "         'Бизнес': 12,\n",
       "         'Люди': 8,\n",
       "         'Преступность': 7,\n",
       "         'Музыка': 7,\n",
       "         'Конфликты': 6,\n",
       "         'Coцсети': 6,\n",
       "         'ТВ и радио': 6,\n",
       "         'Космос': 6,\n",
       "         'Гаджеты': 5,\n",
       "         'Звери': 4,\n",
       "         'Наука': 4,\n",
       "         'Пресса': 4,\n",
       "         'Бокс и ММА': 3,\n",
       "         'Театр': 3,\n",
       "         'Летние виды': 3,\n",
       "         'Регионы': 3,\n",
       "         'Явления': 3,\n",
       "         'Стиль': 3,\n",
       "         'Игры': 3,\n",
       "         'Деловой климат': 2,\n",
       "         'Мир': 2,\n",
       "         'Мировой бизнес': 2,\n",
       "         'События': 2,\n",
       "         'Город': 2,\n",
       "         'Молдавия': 2,\n",
       "         'Деньги': 2,\n",
       "         'Искусство': 2,\n",
       "         'Прибалтика': 2,\n",
       "         'Достижения': 2,\n",
       "         'Средняя Азия': 2,\n",
       "         'Россия': 2,\n",
       "         'Рынки': 2,\n",
       "         'Москва': 2,\n",
       "         'Закавказье': 2,\n",
       "         'Зимние виды': 2,\n",
       "         'Полиция и спецслужбы': 1,\n",
       "         'Офис': 1,\n",
       "         'Инструменты': 1,\n",
       "         'Часы': 1,\n",
       "         'Киберпреступность': 1,\n",
       "         'Вирусные ролики': 1,\n",
       "         'Вещи': 1,\n",
       "         'Оружие': 1,\n",
       "         'Техника': 1,\n",
       "         'Дача': 1,\n",
       "         'Движение': 1,\n",
       "         'Книги': 1})"
      ]
     },
     "execution_count": 12,
     "metadata": {},
     "output_type": "execute_result"
    }
   ],
   "source": [
    "Counter(ds_sample.tags)"
   ]
  },
  {
   "cell_type": "code",
   "execution_count": null,
   "metadata": {
    "scrolled": true
   },
   "outputs": [
    {
     "data": {
      "text/plain": [
       "{'Все': 453581,\n",
       " 'Политика': 33220,\n",
       " 'Общество': 27560,\n",
       " 'Украина': 17934,\n",
       " 'Происшествия': 15972,\n",
       " 'Футбол': 13128,\n",
       " 'Госэкономика': 12869,\n",
       " 'Кино': 9109,\n",
       " 'Бизнес': 8224,\n",
       " 'Интернет': 7945,\n",
       " 'Наука': 6975,\n",
       " 'Следствие и суд': 6825,\n",
       " 'Музыка': 5822,\n",
       " 'Люди': 5184,\n",
       " 'Преступность': 4737,\n",
       " 'Квартира': 3759,\n",
       " 'Космос': 3622,\n",
       " 'События': 3161,\n",
       " 'Конфликты': 3136,\n",
       " 'ТВ и радио': 3028,\n",
       " 'Coцсети': 2924,\n",
       " 'Летние виды': 2893,\n",
       " 'Деловой климат': 2656,\n",
       " 'Регионы': 2639,\n",
       " 'Криминал': 2550,\n",
       " 'Явления': 2523,\n",
       " 'Бокс и ММА': 2443,\n",
       " 'Звери': 2278,\n",
       " 'Город': 2247,\n",
       " 'Гаджеты': 2183,\n",
       " 'Мир': 2121,\n",
       " 'Стиль': 2090,\n",
       " 'Игры': 2072,\n",
       " 'Рынки': 2012,\n",
       " 'Пресса': 1805,\n",
       " 'Искусство': 1795,\n",
       " 'Зимние виды': 1677,\n",
       " 'Полиция и спецслужбы': 1635,\n",
       " 'Закавказье': 1442,\n",
       " 'Деньги': 1361,\n",
       " 'Москва': 1312,\n",
       " 'Прибалтика': 1242,\n",
       " 'Театр': 1217,\n",
       " 'Оружие': 1216,\n",
       " 'Техника': 1208,\n",
       " 'Книги': 1208,\n",
       " 'Средняя Азия': 1131,\n",
       " 'Дача': 1084,\n",
       " 'Белоруссия': 916,\n",
       " 'Хоккей': 915,\n",
       " 'Мировой бизнес': 854,\n",
       " 'Движение': 834,\n",
       " 'Офис': 783,\n",
       " 'Внешний вид': 727,\n",
       " 'Достижения': 718,\n",
       " 'Инструменты': 710,\n",
       " 'Россия': 706,\n",
       " 'Часы': 662,\n",
       " 'Софт': 652,\n",
       " 'Мнения': 615,\n",
       " 'Мемы': 477,\n",
       " 'Вирусные ролики': 474,\n",
       " 'Еда': 457,\n",
       " 'Молдавия': 439,\n",
       " 'Вещи': 424,\n",
       " 'Реклама': 389,\n",
       " 'История': 347,\n",
       " 'Жизнь': 333,\n",
       " 'Автобизнес': 310,\n",
       " 'Киберпреступность': 169,\n",
       " 'Финансы компаний': 155,\n",
       " 'Преступная Россия': 144,\n",
       " 'Авто': 141,\n",
       " 'Туризм': 85,\n",
       " 'Социальная сфера': 70,\n",
       " 'Первая мировая': 65,\n",
       " 'Вкусы': 54,\n",
       " 'Экология': 53,\n",
       " 'Наследие': 46,\n",
       " 'Госрегулирование': 41,\n",
       " 'Производители': 36,\n",
       " 'Аналитика рынка': 28,\n",
       " 'Фотография': 28,\n",
       " 'Страноведение': 21,\n",
       " 'Выборы': 11,\n",
       " 'Мировой опыт': 6,\n",
       " 'Вооружение': 3,\n",
       " 'Инновации': 1}"
      ]
     },
     "execution_count": 13,
     "metadata": {},
     "output_type": "execute_result"
    }
   ],
   "source": [
    "cntr = Counter(ds.tags)\n",
    "{k: v for k, v in sorted(cntr.items(), key=lambda item: item[1], reverse=True)}"
   ]
  },
  {
   "cell_type": "code",
   "execution_count": null,
   "metadata": {},
   "outputs": [
    {
     "name": "stderr",
     "output_type": "stream",
     "text": [
      "<>:6: SyntaxWarning: invalid escape sequence '\\,'\n",
      "<>:6: SyntaxWarning: invalid escape sequence '\\,'\n",
      "C:\\Users\\Iossif\\AppData\\Local\\Temp\\ipykernel_13028\\1762243782.py:6: SyntaxWarning: invalid escape sequence '\\,'\n",
      "  punctuations = '''!()-[]{};:'\"\\,<>./?@#$%^&*_~abcdefghijklmnopqrstuvwxyzABCDEFGHIJKLMNOPQRSTUVWXYZ1234567890'''\n",
      "C:\\Users\\Iossif\\AppData\\Local\\Temp\\ipykernel_13028\\1762243782.py:18: TqdmDeprecationWarning: This function will be removed in tqdm==5.0.0\n",
      "Please use `tqdm.notebook.tqdm` instead of `tqdm.tqdm_notebook`\n",
      "  no_punc_text = [rem_punc(t) for t in tqdm_notebook(texts)]\n"
     ]
    },
    {
     "data": {
      "application/vnd.jupyter.widget-view+json": {
       "model_id": "50b35969f7f04922a35328288ebff192",
       "version_major": 2,
       "version_minor": 0
      },
      "text/plain": [
       "  0%|          | 0/1000 [00:00<?, ?it/s]"
      ]
     },
     "metadata": {},
     "output_type": "display_data"
    }
   ],
   "source": [
    "texts = ds_sample.text.values\n",
    "#remove punctuation\n",
    "\n",
    "def rem_punc(t):\n",
    "# define punctuation\n",
    "    punctuations = '''!()-[]{};:'\"\\,<>./?@#$%^&*_~abcdefghijklmnopqrstuvwxyzABCDEFGHIJKLMNOPQRSTUVWXYZ1234567890'''\n",
    "\n",
    "\n",
    "# remove punctuation from the string\n",
    "    for c in punctuations:\n",
    "        t=t.replace(c,' ')\n",
    "\n",
    "\n",
    "# display the unpunctuated string\n",
    "    return t.replace('\\n',' ')\n",
    "\n",
    "\n",
    "no_punc_text = [rem_punc(t) for t in tqdm_notebook(texts)]"
   ]
  },
  {
   "cell_type": "code",
   "execution_count": null,
   "metadata": {},
   "outputs": [
    {
     "name": "stderr",
     "output_type": "stream",
     "text": [
      "/var/folders/_3/4_xtd3hj54s46hcqc_qgl8dm0000gn/T/ipykernel_92537/1263936609.py:2: TqdmDeprecationWarning: This function will be removed in tqdm==5.0.0\n",
      "Please use `tqdm.notebook.tqdm` instead of `tqdm.tqdm_notebook`\n",
      "  lc_text = [t.lower() for t in tqdm_notebook(no_punc_text)]\n"
     ]
    },
    {
     "data": {
      "application/vnd.jupyter.widget-view+json": {
       "model_id": "fa8d1a7f054f410bb83fed1c45cb5f82",
       "version_major": 2,
       "version_minor": 0
      },
      "text/plain": [
       "  0%|          | 0/1000 [00:00<?, ?it/s]"
      ]
     },
     "metadata": {},
     "output_type": "display_data"
    },
    {
     "data": {
      "text/plain": [
       "'тела одиннадцати погибших в результате аварии на буровой платформе  кольская  доставлены в порт корсаков на сахалине  сообщает  интерфакс  в четверг     декабря  со ссылкой на представителей областного управления мчс рф  судно  смит сахалин  с телами погибших прибыло в корсаков в       по местному времени  процедура опознания  сообщила представитель дальневосточного следственного управления на транспорте скр  будет проведена во второй половине дня    декабря  буровая платформа  кольская  затонула в охотском море во время шторма    декабря при ее буксировке от западного побережья камчатки на сахалин  на платформе в момент аварии находились    человек     человек удалось спасти  обнаружены тела    погибших     из них удалось поднять на борт судна  смит сахалин   остальные    человек числятся пропавшими без вести     декабря  оао  арктикморнефтегазразведка    компания владелец платформы   опубликовала на сайте список экипажа и пассажиров  кольской  с указанием имен и фамилий спасенных и погибших  проведение поисковой операции затрудняют неблагоприятные погодные условия в районе крушения платформы   сильный снегопад и плохая видимость  возможной причиной аварии платформы дальневосточное следственное управление на транспорте называет нарушение правил буксировки при сложных погодных условиях '"
      ]
     },
     "execution_count": 16,
     "metadata": {},
     "output_type": "execute_result"
    }
   ],
   "source": [
    "#lowercase\n",
    "lc_text = [t.lower() for t in tqdm_notebook(no_punc_text)]\n",
    "lc_text[0]"
   ]
  },
  {
   "cell_type": "code",
   "execution_count": null,
   "metadata": {},
   "outputs": [
    {
     "name": "stderr",
     "output_type": "stream",
     "text": [
      "[nltk_data] Downloading package stopwords to /Users/user/nltk_data...\n",
      "[nltk_data]   Package stopwords is already up-to-date!\n"
     ]
    }
   ],
   "source": [
    "#stopword removal\n",
    "import nltk\n",
    "from nltk.corpus import stopwords\n",
    "import nltk\n",
    "nltk.download('stopwords')\n",
    "sw = stopwords.words('russian')"
   ]
  },
  {
   "cell_type": "code",
   "execution_count": null,
   "metadata": {
    "collapsed": true,
    "jupyter": {
     "outputs_hidden": true
    }
   },
   "outputs": [
    {
     "data": {
      "text/plain": [
       "['и',\n",
       " 'в',\n",
       " 'во',\n",
       " 'не',\n",
       " 'что',\n",
       " 'он',\n",
       " 'на',\n",
       " 'я',\n",
       " 'с',\n",
       " 'со',\n",
       " 'как',\n",
       " 'а',\n",
       " 'то',\n",
       " 'все',\n",
       " 'она',\n",
       " 'так',\n",
       " 'его',\n",
       " 'но',\n",
       " 'да',\n",
       " 'ты',\n",
       " 'к',\n",
       " 'у',\n",
       " 'же',\n",
       " 'вы',\n",
       " 'за',\n",
       " 'бы',\n",
       " 'по',\n",
       " 'только',\n",
       " 'ее',\n",
       " 'мне',\n",
       " 'было',\n",
       " 'вот',\n",
       " 'от',\n",
       " 'меня',\n",
       " 'еще',\n",
       " 'нет',\n",
       " 'о',\n",
       " 'из',\n",
       " 'ему',\n",
       " 'теперь',\n",
       " 'когда',\n",
       " 'даже',\n",
       " 'ну',\n",
       " 'вдруг',\n",
       " 'ли',\n",
       " 'если',\n",
       " 'уже',\n",
       " 'или',\n",
       " 'ни',\n",
       " 'быть',\n",
       " 'был',\n",
       " 'него',\n",
       " 'до',\n",
       " 'вас',\n",
       " 'нибудь',\n",
       " 'опять',\n",
       " 'уж',\n",
       " 'вам',\n",
       " 'ведь',\n",
       " 'там',\n",
       " 'потом',\n",
       " 'себя',\n",
       " 'ничего',\n",
       " 'ей',\n",
       " 'может',\n",
       " 'они',\n",
       " 'тут',\n",
       " 'где',\n",
       " 'есть',\n",
       " 'надо',\n",
       " 'ней',\n",
       " 'для',\n",
       " 'мы',\n",
       " 'тебя',\n",
       " 'их',\n",
       " 'чем',\n",
       " 'была',\n",
       " 'сам',\n",
       " 'чтоб',\n",
       " 'без',\n",
       " 'будто',\n",
       " 'чего',\n",
       " 'раз',\n",
       " 'тоже',\n",
       " 'себе',\n",
       " 'под',\n",
       " 'будет',\n",
       " 'ж',\n",
       " 'тогда',\n",
       " 'кто',\n",
       " 'этот',\n",
       " 'того',\n",
       " 'потому',\n",
       " 'этого',\n",
       " 'какой',\n",
       " 'совсем',\n",
       " 'ним',\n",
       " 'здесь',\n",
       " 'этом',\n",
       " 'один',\n",
       " 'почти',\n",
       " 'мой',\n",
       " 'тем',\n",
       " 'чтобы',\n",
       " 'нее',\n",
       " 'сейчас',\n",
       " 'были',\n",
       " 'куда',\n",
       " 'зачем',\n",
       " 'всех',\n",
       " 'никогда',\n",
       " 'можно',\n",
       " 'при',\n",
       " 'наконец',\n",
       " 'два',\n",
       " 'об',\n",
       " 'другой',\n",
       " 'хоть',\n",
       " 'после',\n",
       " 'над',\n",
       " 'больше',\n",
       " 'тот',\n",
       " 'через',\n",
       " 'эти',\n",
       " 'нас',\n",
       " 'про',\n",
       " 'всего',\n",
       " 'них',\n",
       " 'какая',\n",
       " 'много',\n",
       " 'разве',\n",
       " 'три',\n",
       " 'эту',\n",
       " 'моя',\n",
       " 'впрочем',\n",
       " 'хорошо',\n",
       " 'свою',\n",
       " 'этой',\n",
       " 'перед',\n",
       " 'иногда',\n",
       " 'лучше',\n",
       " 'чуть',\n",
       " 'том',\n",
       " 'нельзя',\n",
       " 'такой',\n",
       " 'им',\n",
       " 'более',\n",
       " 'всегда',\n",
       " 'конечно',\n",
       " 'всю',\n",
       " 'между']"
      ]
     },
     "execution_count": 18,
     "metadata": {},
     "output_type": "execute_result"
    }
   ],
   "source": [
    "sw"
   ]
  },
  {
   "cell_type": "code",
   "execution_count": null,
   "metadata": {},
   "outputs": [
    {
     "name": "stdout",
     "output_type": "stream",
     "text": [
      "Original: ['Я', 'очень', 'люблю', 'изучать', 'обработку', 'естественного', 'языка']\n",
      "Without stopwords: ['очень', 'люблю', 'изучать', 'обработку', 'естественного', 'языка']\n"
     ]
    }
   ],
   "source": [
    "text = \"Я очень люблю изучать обработку естественного языка\"\n",
    "\n",
    "# tokenize into words\n",
    "words = nltk.word_tokenize(text, language=\"russian\")\n",
    "\n",
    "# filter out stopwords\n",
    "filtered = [w for w in words if w.lower() not in sw]\n",
    "\n",
    "print(\"Original:\", words)\n",
    "print(\"Without stopwords:\", filtered)"
   ]
  },
  {
   "cell_type": "code",
   "execution_count": null,
   "metadata": {},
   "outputs": [
    {
     "data": {
      "text/html": [
       "<div>\n",
       "<style scoped>\n",
       "    .dataframe tbody tr th:only-of-type {\n",
       "        vertical-align: middle;\n",
       "    }\n",
       "\n",
       "    .dataframe tbody tr th {\n",
       "        vertical-align: top;\n",
       "    }\n",
       "\n",
       "    .dataframe thead th {\n",
       "        text-align: right;\n",
       "    }\n",
       "</style>\n",
       "<table border=\"1\" class=\"dataframe\">\n",
       "  <thead>\n",
       "    <tr style=\"text-align: right;\">\n",
       "      <th></th>\n",
       "      <th>url</th>\n",
       "      <th>title</th>\n",
       "      <th>text</th>\n",
       "      <th>topic</th>\n",
       "      <th>tags</th>\n",
       "      <th>date</th>\n",
       "    </tr>\n",
       "  </thead>\n",
       "  <tbody>\n",
       "    <tr>\n",
       "      <th>0</th>\n",
       "      <td>https://lenta.ru/news/1914/09/16/hungarnn/</td>\n",
       "      <td>1914. Русские войска вступили в пределы Венгрии</td>\n",
       "      <td>Бои у Сопоцкина и Друскеник закончились отступ...</td>\n",
       "      <td>Библиотека</td>\n",
       "      <td>Первая мировая</td>\n",
       "      <td>1914/09/16</td>\n",
       "    </tr>\n",
       "    <tr>\n",
       "      <th>1</th>\n",
       "      <td>https://lenta.ru/news/1914/09/16/lermontov/</td>\n",
       "      <td>1914. Празднование столетия М.Ю. Лермонтова от...</td>\n",
       "      <td>Министерство народного просвещения, в виду про...</td>\n",
       "      <td>Библиотека</td>\n",
       "      <td>Первая мировая</td>\n",
       "      <td>1914/09/16</td>\n",
       "    </tr>\n",
       "    <tr>\n",
       "      <th>2</th>\n",
       "      <td>https://lenta.ru/news/1914/09/17/nesteroff/</td>\n",
       "      <td>1914. Das ist Nesteroff!</td>\n",
       "      <td>Штабс-капитан П. Н. Нестеров на днях, увидев в...</td>\n",
       "      <td>Библиотека</td>\n",
       "      <td>Первая мировая</td>\n",
       "      <td>1914/09/17</td>\n",
       "    </tr>\n",
       "    <tr>\n",
       "      <th>3</th>\n",
       "      <td>https://lenta.ru/news/1914/09/17/bulldogn/</td>\n",
       "      <td>1914. Бульдог-гонец под Льежем</td>\n",
       "      <td>Фотограф-корреспондент Daily Mirror рассказыва...</td>\n",
       "      <td>Библиотека</td>\n",
       "      <td>Первая мировая</td>\n",
       "      <td>1914/09/17</td>\n",
       "    </tr>\n",
       "    <tr>\n",
       "      <th>4</th>\n",
       "      <td>https://lenta.ru/news/1914/09/18/zver/</td>\n",
       "      <td>1914. Под Люблином пойман швабский зверь</td>\n",
       "      <td>Лица, приехавшие в Варшаву из Люблина, передаю...</td>\n",
       "      <td>Библиотека</td>\n",
       "      <td>Первая мировая</td>\n",
       "      <td>1914/09/18</td>\n",
       "    </tr>\n",
       "  </tbody>\n",
       "</table>\n",
       "</div>"
      ],
      "text/plain": [
       "                                           url  \\\n",
       "0   https://lenta.ru/news/1914/09/16/hungarnn/   \n",
       "1  https://lenta.ru/news/1914/09/16/lermontov/   \n",
       "2  https://lenta.ru/news/1914/09/17/nesteroff/   \n",
       "3   https://lenta.ru/news/1914/09/17/bulldogn/   \n",
       "4       https://lenta.ru/news/1914/09/18/zver/   \n",
       "\n",
       "                                               title  \\\n",
       "0  1914. Русские войска вступили в пределы Венгрии     \n",
       "1  1914. Празднование столетия М.Ю. Лермонтова от...   \n",
       "2                           1914. Das ist Nesteroff!   \n",
       "3                    1914. Бульдог-гонец под Льежем    \n",
       "4           1914. Под Люблином пойман швабский зверь   \n",
       "\n",
       "                                                text       topic  \\\n",
       "0  Бои у Сопоцкина и Друскеник закончились отступ...  Библиотека   \n",
       "1  Министерство народного просвещения, в виду про...  Библиотека   \n",
       "2  Штабс-капитан П. Н. Нестеров на днях, увидев в...  Библиотека   \n",
       "3  Фотограф-корреспондент Daily Mirror рассказыва...  Библиотека   \n",
       "4  Лица, приехавшие в Варшаву из Люблина, передаю...  Библиотека   \n",
       "\n",
       "             tags        date  \n",
       "0  Первая мировая  1914/09/16  \n",
       "1  Первая мировая  1914/09/16  \n",
       "2  Первая мировая  1914/09/17  \n",
       "3  Первая мировая  1914/09/17  \n",
       "4  Первая мировая  1914/09/18  "
      ]
     },
     "execution_count": 22,
     "metadata": {},
     "output_type": "execute_result"
    }
   ],
   "source": [
    "ds.head()"
   ]
  },
  {
   "cell_type": "code",
   "execution_count": null,
   "metadata": {},
   "outputs": [
    {
     "data": {
      "text/plain": [
       "'1914. Русские войска вступили в\\xa0пределы Венгрии  '"
      ]
     },
     "execution_count": 52,
     "metadata": {},
     "output_type": "execute_result"
    }
   ],
   "source": [
    "ds['title'][0]"
   ]
  },
  {
   "cell_type": "code",
   "execution_count": null,
   "metadata": {},
   "outputs": [],
   "source": [
    "words = nltk.word_tokenize(ds['title'][0], language=\"russian\")"
   ]
  },
  {
   "cell_type": "code",
   "execution_count": null,
   "metadata": {},
   "outputs": [
    {
     "data": {
      "text/plain": [
       "['1914', '.', 'Русские', 'войска', 'вступили', 'в', 'пределы', 'Венгрии']"
      ]
     },
     "execution_count": 54,
     "metadata": {},
     "output_type": "execute_result"
    }
   ],
   "source": [
    "words"
   ]
  },
  {
   "cell_type": "code",
   "execution_count": null,
   "metadata": {},
   "outputs": [],
   "source": [
    "# Clean the data set from stop words\n",
    "# your code\n",
    "\n",
    "-- remove stop words\n",
    "-- apply stemming\n",
    "-- resave the file.csv"
   ]
  },
  {
   "cell_type": "code",
   "execution_count": null,
   "metadata": {},
   "outputs": [],
   "source": []
  }
 ],
 "metadata": {
  "kernelspec": {
   "display_name": "base",
   "language": "python",
   "name": "python3"
  },
  "language_info": {
   "codemirror_mode": {
    "name": "ipython",
    "version": 3
   },
   "file_extension": ".py",
   "mimetype": "text/x-python",
   "name": "python",
   "nbconvert_exporter": "python",
   "pygments_lexer": "ipython3",
   "version": "3.12.7"
  }
 },
 "nbformat": 4,
 "nbformat_minor": 4
}
